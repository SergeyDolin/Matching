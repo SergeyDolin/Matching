{
 "cells": [
  {
   "cell_type": "code",
   "execution_count": null,
   "metadata": {},
   "outputs": [],
   "source": [
    "# %conda install -c pytorch faiss-cpu\n",
    "%conda install -c conda-forge faiss-gpu"
   ]
  },
  {
   "cell_type": "code",
   "execution_count": null,
   "metadata": {},
   "outputs": [],
   "source": [
    "%conda install -c \"conda-forge/label/broken\" faiss-gpu"
   ]
  },
  {
   "cell_type": "code",
   "execution_count": 1,
   "metadata": {},
   "outputs": [
    {
     "name": "stderr",
     "output_type": "stream",
     "text": [
      "C:\\ProgramData\\anaconda3\\envs\\ds_practicum_env\\lib\\site-packages\\scipy\\__init__.py:146: UserWarning: A NumPy version >=1.17.3 and <1.25.0 is required for this version of SciPy (detected version 1.26.0\n",
      "  warnings.warn(f\"A NumPy version >={np_minversion} and <{np_maxversion}\"\n"
     ]
    }
   ],
   "source": [
    "import pandas as pd\n",
    "import seaborn as sb\n",
    "import matplotlib.pyplot as plt\n",
    "import plotly.express as px\n",
    "import faiss\n",
    "import sweetviz as sv\n",
    "import numpy as np\n",
    "from sklearn.preprocessing import RobustScaler"
   ]
  },
  {
   "cell_type": "code",
   "execution_count": 2,
   "metadata": {},
   "outputs": [],
   "source": [
    "train = pd.read_csv('./Data/train.csv', index_col=0)\n",
    "valid = pd.read_csv('./Data/validation.csv', index_col=0)\n",
    "valid_awr = pd.read_csv('./Data/validation_answer.csv', index_col=0)\n",
    "base = pd.read_csv('./Data/base.csv', index_col=0)"
   ]
  },
  {
   "cell_type": "code",
   "execution_count": null,
   "metadata": {},
   "outputs": [],
   "source": [
    "train.describe().T\\\n",
    "    .style.bar(subset=['mean'], color=px.colors.qualitative.G10[2])\\\n",
    "    .background_gradient(subset=['std'], cmap='Blues')\\\n",
    "    .background_gradient(subset=['50%'], cmap='BuGn')"
   ]
  },
  {
   "cell_type": "code",
   "execution_count": null,
   "metadata": {},
   "outputs": [],
   "source": [
    "base.describe().T\\\n",
    "    .style.bar(subset=['mean'], color=px.colors.qualitative.G10[2])\\\n",
    "    .background_gradient(subset=['std'], cmap='Blues')\\\n",
    "    .background_gradient(subset=['50%'], cmap='BuGn')"
   ]
  },
  {
   "cell_type": "code",
   "execution_count": null,
   "metadata": {},
   "outputs": [],
   "source": [
    "# train_report = sv.analyze(train)"
   ]
  },
  {
   "cell_type": "code",
   "execution_count": null,
   "metadata": {},
   "outputs": [],
   "source": [
    "# train_report.show_html('Train_report.html')"
   ]
  },
  {
   "cell_type": "code",
   "execution_count": null,
   "metadata": {},
   "outputs": [],
   "source": [
    "d = base.shape[1]\n",
    "d"
   ]
  },
  {
   "cell_type": "code",
   "execution_count": 3,
   "metadata": {},
   "outputs": [],
   "source": [
    "ngpu = 1"
   ]
  },
  {
   "cell_type": "markdown",
   "metadata": {},
   "source": [
    "## L2"
   ]
  },
  {
   "cell_type": "code",
   "execution_count": null,
   "metadata": {},
   "outputs": [],
   "source": [
    "index = faiss.IndexFlatL2(d)\n",
    "index.add(base)"
   ]
  },
  {
   "cell_type": "code",
   "execution_count": null,
   "metadata": {},
   "outputs": [],
   "source": [
    "resources = [faiss.StandardGpuResources() for i in range(ngpu)]\n",
    "index_gpu = faiss.index_cpu_to_gpu_multiple_py(resources, index)"
   ]
  },
  {
   "cell_type": "code",
   "execution_count": 13,
   "metadata": {},
   "outputs": [],
   "source": [
    "base_index = {k: v for k, v in enumerate(base.index.to_list())}"
   ]
  },
  {
   "cell_type": "code",
   "execution_count": 14,
   "metadata": {
    "scrolled": true
   },
   "outputs": [],
   "source": [
    "targets = train[\"Target\"]"
   ]
  },
  {
   "cell_type": "code",
   "execution_count": null,
   "metadata": {},
   "outputs": [],
   "source": [
    "%%time\n",
    "D, I = index_gpu.search(train.drop('Target', axis=1), 5)\n",
    "acc = 0\n",
    "for target, el in zip(targets.values.tolist(), I.tolist()):\n",
    "    acc += int(target in [base_index[r] for r in el])\n",
    "\n",
    "print(100 * acc / len(I))"
   ]
  },
  {
   "cell_type": "markdown",
   "metadata": {},
   "source": [
    "## IVF"
   ]
  },
  {
   "cell_type": "code",
   "execution_count": null,
   "metadata": {},
   "outputs": [],
   "source": [
    "nlist = 144\n",
    "\n",
    "quant = faiss.IndexFlatIP(d)\n",
    "index = faiss.IndexIVFFlat(quant, d, nlist)\n",
    "index.train(base)\n",
    "index.add(base)\n",
    "index.nprobe = 8\n",
    "resources = [faiss.StandardGpuResources() for i in range(ngpu)]\n",
    "index_gpu = faiss.index_cpu_to_gpu_multiple_py(resources, index)"
   ]
  },
  {
   "cell_type": "code",
   "execution_count": null,
   "metadata": {},
   "outputs": [],
   "source": [
    "%%time\n",
    "D, I = index_gpu.search(train.drop('Target', axis=1), 5)\n",
    "acc = 0\n",
    "for target, el in zip(targets.values.tolist(), I.tolist()):\n",
    "    acc += int(target in [base_index[r] for r in el])\n",
    "\n",
    "print(100 * acc / len(I))"
   ]
  },
  {
   "cell_type": "code",
   "execution_count": null,
   "metadata": {},
   "outputs": [],
   "source": [
    "scaler = RobustScaler()\n",
    "base2 = scaler.fit_transform(base)\n",
    "train2 = scaler.transform(train.drop('Target', axis=1))"
   ]
  },
  {
   "cell_type": "code",
   "execution_count": null,
   "metadata": {},
   "outputs": [],
   "source": [
    "index = faiss.IndexFlatL2(d)\n",
    "index.add(base2)"
   ]
  },
  {
   "cell_type": "code",
   "execution_count": null,
   "metadata": {},
   "outputs": [],
   "source": [
    "resources = [faiss.StandardGpuResources() for i in range(ngpu)]\n",
    "index_gpu = faiss.index_cpu_to_gpu_multiple_py(resources, index)"
   ]
  },
  {
   "cell_type": "code",
   "execution_count": null,
   "metadata": {},
   "outputs": [],
   "source": [
    "%%time\n",
    "D, I = index_gpu.search(train2, 5)\n",
    "acc = 0\n",
    "for target, el in zip(targets.values.tolist(), I.tolist()):\n",
    "    acc += int(target in [base_index[r] for r in el])\n",
    "\n",
    "print(100 * acc / len(I))"
   ]
  },
  {
   "cell_type": "markdown",
   "metadata": {},
   "source": []
  },
  {
   "cell_type": "code",
   "execution_count": null,
   "metadata": {},
   "outputs": [],
   "source": [
    "nlist = 144\n",
    "\n",
    "quant = faiss.IndexFlatIP(d)\n",
    "index = faiss.IndexIVFFlat(quant, d, nlist)\n",
    "index.train(base2)\n",
    "index.add(base2)\n",
    "index.nprobe = 8\n",
    "resources = [faiss.StandardGpuResources() for i in range(ngpu)]\n",
    "index_gpu = faiss.index_cpu_to_gpu_multiple_py(resources, index)"
   ]
  },
  {
   "cell_type": "code",
   "execution_count": null,
   "metadata": {},
   "outputs": [],
   "source": [
    "%%time\n",
    "D, I = index_gpu.search(train2, 5)\n",
    "acc = 0\n",
    "for target, el in zip(targets.values.tolist(), I.tolist()):\n",
    "    acc += int(target in [base_index[r] for r in el])\n",
    "\n",
    "print(100 * acc / len(I))"
   ]
  },
  {
   "cell_type": "code",
   "execution_count": null,
   "metadata": {},
   "outputs": [],
   "source": [
    "plt.figure(figsize=(150, 130))\n",
    "sb.heatmap(train.corr(method='spearman'), annot=True, cmap=sb.diverging_palette(220, 10, as_cmap=True));\n",
    "plt.show()"
   ]
  },
  {
   "cell_type": "code",
   "execution_count": 4,
   "metadata": {},
   "outputs": [],
   "source": [
    "from statsmodels.stats.outliers_influence import variance_inflation_factor"
   ]
  },
  {
   "cell_type": "code",
   "execution_count": 5,
   "metadata": {},
   "outputs": [
    {
     "name": "stdout",
     "output_type": "stream",
     "text": [
      "   feature        VIF\n",
      "0        0  12.153339\n",
      "1        1   3.451413\n",
      "2        2   2.283375\n",
      "3        3  52.603988\n",
      "4        4   6.629906\n",
      "..     ...        ...\n",
      "67      67   1.194555\n",
      "68      68   2.439916\n",
      "69      69  29.866330\n",
      "70      70   4.127809\n",
      "71      71   2.428688\n",
      "\n",
      "[72 rows x 2 columns]\n"
     ]
    }
   ],
   "source": [
    "vif_data = pd.DataFrame()\n",
    "vif_data[\"feature\"] = train.drop('Target', axis=1).columns\n",
    "\n",
    "# вычисление VIF для каждого признака\n",
    "vif_data[\"VIF\"] = [variance_inflation_factor(train.drop('Target', axis=1).values, i)\n",
    "                          for i in range(len(train.drop('Target', axis=1).columns))]\n",
    "  \n",
    "print(vif_data)"
   ]
  },
  {
   "cell_type": "code",
   "execution_count": 6,
   "metadata": {},
   "outputs": [
    {
     "data": {
      "text/html": [
       "<div>\n",
       "<style scoped>\n",
       "    .dataframe tbody tr th:only-of-type {\n",
       "        vertical-align: middle;\n",
       "    }\n",
       "\n",
       "    .dataframe tbody tr th {\n",
       "        vertical-align: top;\n",
       "    }\n",
       "\n",
       "    .dataframe thead th {\n",
       "        text-align: right;\n",
       "    }\n",
       "</style>\n",
       "<table border=\"1\" class=\"dataframe\">\n",
       "  <thead>\n",
       "    <tr style=\"text-align: right;\">\n",
       "      <th></th>\n",
       "      <th>feature</th>\n",
       "      <th>VIF</th>\n",
       "    </tr>\n",
       "  </thead>\n",
       "  <tbody>\n",
       "    <tr>\n",
       "      <th>65</th>\n",
       "      <td>65</td>\n",
       "      <td>1.024089</td>\n",
       "    </tr>\n",
       "    <tr>\n",
       "      <th>16</th>\n",
       "      <td>16</td>\n",
       "      <td>1.025868</td>\n",
       "    </tr>\n",
       "    <tr>\n",
       "      <th>22</th>\n",
       "      <td>22</td>\n",
       "      <td>1.027528</td>\n",
       "    </tr>\n",
       "    <tr>\n",
       "      <th>13</th>\n",
       "      <td>13</td>\n",
       "      <td>1.046378</td>\n",
       "    </tr>\n",
       "    <tr>\n",
       "      <th>17</th>\n",
       "      <td>17</td>\n",
       "      <td>1.069599</td>\n",
       "    </tr>\n",
       "    <tr>\n",
       "      <th>...</th>\n",
       "      <td>...</td>\n",
       "      <td>...</td>\n",
       "    </tr>\n",
       "    <tr>\n",
       "      <th>56</th>\n",
       "      <td>56</td>\n",
       "      <td>277.061764</td>\n",
       "    </tr>\n",
       "    <tr>\n",
       "      <th>54</th>\n",
       "      <td>54</td>\n",
       "      <td>333.049631</td>\n",
       "    </tr>\n",
       "    <tr>\n",
       "      <th>8</th>\n",
       "      <td>8</td>\n",
       "      <td>351.987728</td>\n",
       "    </tr>\n",
       "    <tr>\n",
       "      <th>66</th>\n",
       "      <td>66</td>\n",
       "      <td>1260.625727</td>\n",
       "    </tr>\n",
       "    <tr>\n",
       "      <th>19</th>\n",
       "      <td>19</td>\n",
       "      <td>2645.288377</td>\n",
       "    </tr>\n",
       "  </tbody>\n",
       "</table>\n",
       "<p>72 rows × 2 columns</p>\n",
       "</div>"
      ],
      "text/plain": [
       "   feature          VIF\n",
       "65      65     1.024089\n",
       "16      16     1.025868\n",
       "22      22     1.027528\n",
       "13      13     1.046378\n",
       "17      17     1.069599\n",
       "..     ...          ...\n",
       "56      56   277.061764\n",
       "54      54   333.049631\n",
       "8        8   351.987728\n",
       "66      66  1260.625727\n",
       "19      19  2645.288377\n",
       "\n",
       "[72 rows x 2 columns]"
      ]
     },
     "execution_count": 6,
     "metadata": {},
     "output_type": "execute_result"
    }
   ],
   "source": [
    "vif_data.sort_values(by='VIF')"
   ]
  },
  {
   "cell_type": "code",
   "execution_count": 7,
   "metadata": {},
   "outputs": [
    {
     "data": {
      "text/plain": [
       "0      0\n",
       "3      3\n",
       "8      8\n",
       "10    10\n",
       "14    14\n",
       "18    18\n",
       "19    19\n",
       "20    20\n",
       "21    21\n",
       "25    25\n",
       "27    27\n",
       "29    29\n",
       "31    31\n",
       "32    32\n",
       "35    35\n",
       "37    37\n",
       "38    38\n",
       "44    44\n",
       "52    52\n",
       "54    54\n",
       "55    55\n",
       "56    56\n",
       "61    61\n",
       "62    62\n",
       "64    64\n",
       "66    66\n",
       "69    69\n",
       "Name: feature, dtype: object"
      ]
     },
     "execution_count": 7,
     "metadata": {},
     "output_type": "execute_result"
    }
   ],
   "source": [
    "VIF_features_drop = vif_data.query('VIF >= 8.0')['feature']\n",
    "VIF_features_drop"
   ]
  },
  {
   "cell_type": "code",
   "execution_count": 8,
   "metadata": {},
   "outputs": [],
   "source": [
    "base3 = base.drop(VIF_features_drop.values, axis=1)\n",
    "train3 = train.drop(VIF_features_drop.values, axis=1)"
   ]
  },
  {
   "cell_type": "code",
   "execution_count": null,
   "metadata": {},
   "outputs": [],
   "source": [
    "plt.figure(figsize=(150, 130))\n",
    "sb.heatmap(train3.corr(method='spearman'), annot=True, cmap=sb.diverging_palette(220, 10, as_cmap=True));\n",
    "plt.show()"
   ]
  },
  {
   "cell_type": "code",
   "execution_count": 9,
   "metadata": {},
   "outputs": [
    {
     "data": {
      "text/plain": [
       "45"
      ]
     },
     "execution_count": 9,
     "metadata": {},
     "output_type": "execute_result"
    }
   ],
   "source": [
    "d_base3 = base3.shape[1]\n",
    "d_base3"
   ]
  },
  {
   "cell_type": "code",
   "execution_count": 10,
   "metadata": {},
   "outputs": [],
   "source": [
    "base3_index = {k: v for k, v in enumerate(base3.index.to_list())}"
   ]
  },
  {
   "cell_type": "code",
   "execution_count": 12,
   "metadata": {},
   "outputs": [],
   "source": [
    "scaler = RobustScaler()\n",
    "base3 = scaler.fit_transform(base3)\n",
    "train3 = scaler.transform(train3.drop('Target', axis=1))"
   ]
  },
  {
   "cell_type": "code",
   "execution_count": 15,
   "metadata": {},
   "outputs": [],
   "source": [
    "index = faiss.IndexFlatL2(d_base3)\n",
    "index.add(base3)"
   ]
  },
  {
   "cell_type": "code",
   "execution_count": 16,
   "metadata": {},
   "outputs": [],
   "source": [
    "resources = [faiss.StandardGpuResources() for i in range(ngpu)]\n",
    "index_gpu = faiss.index_cpu_to_gpu_multiple_py(resources, index)"
   ]
  },
  {
   "cell_type": "code",
   "execution_count": null,
   "metadata": {},
   "outputs": [],
   "source": [
    "%%time\n",
    "D, I = index_gpu.search(train3, 5)\n",
    "acc = 0\n",
    "for target, el in zip(targets.values.tolist(), I.tolist()):\n",
    "    acc += int(target in [base3_index[r] for r in el])\n",
    "\n",
    "print(100 * acc / len(I))"
   ]
  },
  {
   "cell_type": "code",
   "execution_count": null,
   "metadata": {},
   "outputs": [],
   "source": []
  },
  {
   "cell_type": "code",
   "execution_count": 17,
   "metadata": {},
   "outputs": [],
   "source": [
    "nlist = 144\n",
    "\n",
    "quant = faiss.IndexFlatIP(d_base3)\n",
    "index = faiss.IndexIVFFlat(quant, d_base3, nlist)\n",
    "index.train(base3)\n",
    "index.add(base3)\n",
    "index.nprobe = 8\n",
    "resources = [faiss.StandardGpuResources() for i in range(ngpu)]\n",
    "index_gpu = faiss.index_cpu_to_gpu_multiple_py(resources, index)"
   ]
  },
  {
   "cell_type": "code",
   "execution_count": 18,
   "metadata": {},
   "outputs": [
    {
     "name": "stdout",
     "output_type": "stream",
     "text": [
      "65.434\n",
      "CPU times: total: 5.27 s\n",
      "Wall time: 12.5 s\n"
     ]
    }
   ],
   "source": [
    "%%time\n",
    "D, I = index_gpu.search(train3, 5)\n",
    "acc = 0\n",
    "for target, el in zip(targets.values.tolist(), I.tolist()):\n",
    "    acc += int(target in [base3_index[r] for r in el])\n",
    "\n",
    "print(100 * acc / len(I))"
   ]
  },
  {
   "cell_type": "code",
   "execution_count": null,
   "metadata": {},
   "outputs": [],
   "source": []
  },
  {
   "cell_type": "code",
   "execution_count": 19,
   "metadata": {},
   "outputs": [],
   "source": [
    "# set HNSW index parameters\n",
    "M = 64  # number of connections each vertex will have\n",
    "ef_search = 32  # depth of layers explored during search\n",
    "ef_construction = 64  # depth of layers explored during index construction\n",
    "\n",
    "# initialize index (d == 128)\n",
    "index = faiss.IndexHNSWFlat(d_base3, M)\n",
    "# set efConstruction and efSearch parameters\n",
    "index.hnsw.efConstruction = ef_construction\n",
    "index.hnsw.efSearch = ef_search\n",
    "# add data to index\n",
    "index.add(base3)"
   ]
  },
  {
   "cell_type": "code",
   "execution_count": 20,
   "metadata": {},
   "outputs": [],
   "source": [
    "resources = [faiss.StandardGpuResources() for i in range(ngpu)]\n",
    "index_gpu = faiss.index_cpu_to_gpu_multiple_py(resources, index)"
   ]
  },
  {
   "cell_type": "code",
   "execution_count": 21,
   "metadata": {},
   "outputs": [
    {
     "name": "stdout",
     "output_type": "stream",
     "text": [
      "64.616\n",
      "CPU times: total: 56 s\n",
      "Wall time: 5.16 s\n"
     ]
    }
   ],
   "source": [
    "%%time\n",
    "D, I = index_gpu.search(train3, 5)\n",
    "acc = 0\n",
    "for target, el in zip(targets.values.tolist(), I.tolist()):\n",
    "    acc += int(target in [base3_index[r] for r in el])\n",
    "\n",
    "print(100 * acc / len(I))"
   ]
  },
  {
   "cell_type": "code",
   "execution_count": null,
   "metadata": {},
   "outputs": [],
   "source": []
  }
 ],
 "metadata": {
  "kernelspec": {
   "display_name": "Python 3 (ipykernel)",
   "language": "python",
   "name": "python3"
  },
  "language_info": {
   "codemirror_mode": {
    "name": "ipython",
    "version": 3
   },
   "file_extension": ".py",
   "mimetype": "text/x-python",
   "name": "python",
   "nbconvert_exporter": "python",
   "pygments_lexer": "ipython3",
   "version": "3.9.18"
  }
 },
 "nbformat": 4,
 "nbformat_minor": 4
}
